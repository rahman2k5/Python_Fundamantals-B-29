{
 "cells": [
  {
   "cell_type": "code",
   "execution_count": null,
   "metadata": {},
   "outputs": [],
   "source": [
    "# List Datatypes :\n",
    "    "
   ]
  },
  {
   "cell_type": "code",
   "execution_count": null,
   "metadata": {},
   "outputs": [],
   "source": [
    "students = [\"deepan\", \"ajeeth\", \"kumar\", \"mayur\", \"sufiyan\", \"Madiha\", \"sravya\", \"ishika\"]  #--> mainvar"
   ]
  },
  {
   "cell_type": "code",
   "execution_count": null,
   "metadata": {},
   "outputs": [],
   "source": [
    "# syntax    for tempvar in main var:\n",
    "                print(tempvar)"
   ]
  },
  {
   "cell_type": "code",
   "execution_count": null,
   "metadata": {},
   "outputs": [],
   "source": [
    "# Req: I want to appreciate all the students above for submitting their work on time"
   ]
  },
  {
   "cell_type": "code",
   "execution_count": 8,
   "metadata": {},
   "outputs": [],
   "source": [
    "students = [\"deepan\",\"ajeeth\",\"kumar\",\"mayur\",\"sufiyan\",\"Madiha\",\"sravya\",\"ishika\"]\n",
    "   "
   ]
  },
  {
   "cell_type": "code",
   "execution_count": 9,
   "metadata": {},
   "outputs": [
    {
     "name": "stdout",
     "output_type": "stream",
     "text": [
      "['deepan', 'ajeeth', 'kumar', 'mayur', 'sufiyan', 'Madiha', 'sravya', 'ishika']\n"
     ]
    }
   ],
   "source": [
    " print(students)"
   ]
  },
  {
   "cell_type": "code",
   "execution_count": 11,
   "metadata": {},
   "outputs": [
    {
     "name": "stdout",
     "output_type": "stream",
     "text": [
      "keep up the good work, deepan\n",
      "keep up the good work, ajeeth\n",
      "keep up the good work, kumar\n",
      "keep up the good work, mayur\n",
      "keep up the good work, sufiyan\n",
      "keep up the good work, Madiha\n",
      "keep up the good work, sravya\n",
      "keep up the good work, ishika\n"
     ]
    }
   ],
   "source": [
    "for x in students:\n",
    "    print(f\"keep up the good work, {x}\")"
   ]
  },
  {
   "cell_type": "code",
   "execution_count": 12,
   "metadata": {},
   "outputs": [
    {
     "name": "stdout",
     "output_type": "stream",
     "text": [
      "keep up the good work, deepan\n",
      "send me your practise file of today as well, deepan\n",
      "keep up the good work, ajeeth\n",
      "send me your practise file of today as well, ajeeth\n",
      "keep up the good work, kumar\n",
      "send me your practise file of today as well, kumar\n",
      "keep up the good work, mayur\n",
      "send me your practise file of today as well, mayur\n",
      "keep up the good work, sufiyan\n",
      "send me your practise file of today as well, sufiyan\n",
      "keep up the good work, Madiha\n",
      "send me your practise file of today as well, Madiha\n",
      "keep up the good work, sravya\n",
      "send me your practise file of today as well, sravya\n",
      "keep up the good work, ishika\n",
      "send me your practise file of today as well, ishika\n"
     ]
    }
   ],
   "source": [
    "for x in students:\n",
    "    print(f\"keep up the good work, {x}\")\n",
    "    print(f\"send me your practise file of today as well, {x}\")"
   ]
  },
  {
   "cell_type": "code",
   "execution_count": 13,
   "metadata": {},
   "outputs": [
    {
     "name": "stdout",
     "output_type": "stream",
     "text": [
      "keep up the good work, deepan\n",
      "send me your practise file of today as well, deepan.\n",
      "\n",
      "keep up the good work, ajeeth\n",
      "send me your practise file of today as well, ajeeth.\n",
      "\n",
      "keep up the good work, kumar\n",
      "send me your practise file of today as well, kumar.\n",
      "\n",
      "keep up the good work, mayur\n",
      "send me your practise file of today as well, mayur.\n",
      "\n",
      "keep up the good work, sufiyan\n",
      "send me your practise file of today as well, sufiyan.\n",
      "\n",
      "keep up the good work, Madiha\n",
      "send me your practise file of today as well, Madiha.\n",
      "\n",
      "keep up the good work, sravya\n",
      "send me your practise file of today as well, sravya.\n",
      "\n",
      "keep up the good work, ishika\n",
      "send me your practise file of today as well, ishika.\n",
      "\n"
     ]
    }
   ],
   "source": [
    "for x in students:\n",
    "    print(f\"keep up the good work, {x}\")\n",
    "    print(f\"send me your practise file of today as well, {x}.\\n\")"
   ]
  },
  {
   "cell_type": "code",
   "execution_count": 14,
   "metadata": {},
   "outputs": [
    {
     "name": "stdout",
     "output_type": "stream",
     "text": [
      "keep up the good work, deepan\n",
      "send me your practise file of today as well, deepan.\n",
      "\n",
      "keep up the good work, ajeeth\n",
      "send me your practise file of today as well, ajeeth.\n",
      "\n",
      "keep up the good work, kumar\n",
      "send me your practise file of today as well, kumar.\n",
      "\n",
      "keep up the good work, mayur\n",
      "send me your practise file of today as well, mayur.\n",
      "\n",
      "keep up the good work, sufiyan\n",
      "send me your practise file of today as well, sufiyan.\n",
      "\n",
      "keep up the good work, Madiha\n",
      "send me your practise file of today as well, Madiha.\n",
      "\n",
      "keep up the good work, sravya\n",
      "send me your practise file of today as well, sravya.\n",
      "\n",
      "keep up the good work, ishika\n",
      "send me your practise file of today as well, ishika.\n",
      "\n",
      "Thank you for joining the session today !!\n"
     ]
    }
   ],
   "source": [
    "for x in students:\n",
    "    print(f\"keep up the good work, {x}\")\n",
    "    print(f\"send me your practise file of today as well, {x}.\\n\")\n",
    "print(\"Thank you for joining the session today !!\")"
   ]
  },
  {
   "cell_type": "code",
   "execution_count": null,
   "metadata": {},
   "outputs": [],
   "source": [
    "# Introduction to TUPLE data types:\n",
    "# Definition : An immutable list is called a tuple.  "
   ]
  },
  {
   "cell_type": "code",
   "execution_count": null,
   "metadata": {},
   "outputs": [],
   "source": [
    "# Classification: Immutable data type - ---> Which we cannot be able to edit or Alter.......!! "
   ]
  },
  {
   "cell_type": "code",
   "execution_count": null,
   "metadata": {},
   "outputs": [],
   "source": [
    "# How do we define Tuple....................()-----------> Simple paranthesis"
   ]
  },
  {
   "cell_type": "code",
   "execution_count": 15,
   "metadata": {},
   "outputs": [
    {
     "name": "stdout",
     "output_type": "stream",
     "text": [
      "(200, 50)\n"
     ]
    }
   ],
   "source": [
    "dimension = (200,50)\n",
    "print(dimension)"
   ]
  },
  {
   "cell_type": "code",
   "execution_count": 16,
   "metadata": {},
   "outputs": [
    {
     "data": {
      "text/plain": [
       "tuple"
      ]
     },
     "execution_count": 16,
     "metadata": {},
     "output_type": "execute_result"
    }
   ],
   "source": [
    "type(dimension)"
   ]
  },
  {
   "cell_type": "code",
   "execution_count": null,
   "metadata": {},
   "outputs": [],
   "source": [
    "# Req : I want to change this 200 to 250.....!"
   ]
  },
  {
   "cell_type": "code",
   "execution_count": 17,
   "metadata": {},
   "outputs": [
    {
     "ename": "TypeError",
     "evalue": "'tuple' object does not support item assignment",
     "output_type": "error",
     "traceback": [
      "\u001b[1;31m---------------------------------------------------------------------------\u001b[0m",
      "\u001b[1;31mTypeError\u001b[0m                                 Traceback (most recent call last)",
      "\u001b[1;32m<ipython-input-17-cfeddce291b4>\u001b[0m in \u001b[0;36m<module>\u001b[1;34m\u001b[0m\n\u001b[1;32m----> 1\u001b[1;33m \u001b[0mdimension\u001b[0m\u001b[1;33m[\u001b[0m\u001b[1;36m0\u001b[0m\u001b[1;33m]\u001b[0m \u001b[1;33m=\u001b[0m \u001b[1;36m250\u001b[0m\u001b[1;33m\u001b[0m\u001b[1;33m\u001b[0m\u001b[0m\n\u001b[0m",
      "\u001b[1;31mTypeError\u001b[0m: 'tuple' object does not support item assignment"
     ]
    }
   ],
   "source": [
    "dimension[0] = 250"
   ]
  },
  {
   "cell_type": "code",
   "execution_count": 19,
   "metadata": {},
   "outputs": [
    {
     "name": "stdout",
     "output_type": "stream",
     "text": [
      "[250, 50]\n"
     ]
    }
   ],
   "source": [
    "dimension = [250,50]\n",
    "print(dimension)"
   ]
  },
  {
   "cell_type": "code",
   "execution_count": null,
   "metadata": {},
   "outputs": [],
   "source": []
  }
 ],
 "metadata": {
  "kernelspec": {
   "display_name": "Python 3",
   "language": "python",
   "name": "python3"
  },
  "language_info": {
   "codemirror_mode": {
    "name": "ipython",
    "version": 3
   },
   "file_extension": ".py",
   "mimetype": "text/x-python",
   "name": "python",
   "nbconvert_exporter": "python",
   "pygments_lexer": "ipython3",
   "version": "3.7.9"
  }
 },
 "nbformat": 4,
 "nbformat_minor": 4
}
