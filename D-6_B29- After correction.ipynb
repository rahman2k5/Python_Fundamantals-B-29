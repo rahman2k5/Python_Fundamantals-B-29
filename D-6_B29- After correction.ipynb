{
 "cells": [
  {
   "cell_type": "code",
   "execution_count": null,
   "metadata": {},
   "outputs": [],
   "source": [
    "# Continuation with List  - D-6_B29  Practice "
   ]
  },
  {
   "cell_type": "code",
   "execution_count": 3,
   "metadata": {},
   "outputs": [
    {
     "name": "stdout",
     "output_type": "stream",
     "text": [
      "['mayur', 'ravi', 'yogesh', 'srinivas', 'naveed', 'kiran', 'anusha', 'sukanya']\n"
     ]
    }
   ],
   "source": [
    "student = ['mayur', 'ravi','yogesh', 'srinivas', 'naveed', 'kiran','anusha','sukanya']\n",
    "print (student)"
   ]
  },
  {
   "cell_type": "code",
   "execution_count": null,
   "metadata": {},
   "outputs": [],
   "source": [
    "#General Syntax: var[startvalue: stopvalue: stepcount] Note: last value is always exclusion"
   ]
  },
  {
   "cell_type": "code",
   "execution_count": 4,
   "metadata": {},
   "outputs": [
    {
     "name": "stdout",
     "output_type": "stream",
     "text": [
      "['mayur', 'ravi']\n"
     ]
    }
   ],
   "source": [
    "print(student[0:2]) # last value is always exclusion"
   ]
  },
  {
   "cell_type": "code",
   "execution_count": null,
   "metadata": {
    "collapsed": true
   },
   "outputs": [],
   "source": [
    "# To have the values printed alternatively , we use stepcount"
   ]
  },
  {
   "cell_type": "code",
   "execution_count": null,
   "metadata": {},
   "outputs": [],
   "source": [
    "#Req: We want to print every alternative student in the about list in a group....!"
   ]
  },
  {
   "cell_type": "code",
   "execution_count": 5,
   "metadata": {},
   "outputs": [
    {
     "name": "stdout",
     "output_type": "stream",
     "text": [
      "['mayur', 'yogesh', 'naveed', 'anusha']\n"
     ]
    }
   ],
   "source": [
    "print (student[0:7:2])"
   ]
  },
  {
   "cell_type": "code",
   "execution_count": null,
   "metadata": {},
   "outputs": [],
   "source": [
    "# Introduction to FOR loops"
   ]
  },
  {
   "cell_type": "code",
   "execution_count": 53,
   "metadata": {},
   "outputs": [
    {
     "name": "stdout",
     "output_type": "stream",
     "text": [
      "['anjali', 'mansoora', 'ajeeth', 'naveed', 'kiran', 'ram', 'harshita', 'zubair']\n"
     ]
    }
   ],
   "source": [
    "newstudent = ['anjali','mansoora', 'ajeeth','naveed', 'kiran', 'ram', 'harshita', 'zubair']\n",
    "print (newstudent)"
   ]
  },
  {
   "cell_type": "code",
   "execution_count": null,
   "metadata": {},
   "outputs": [],
   "source": [
    "# Req : we want to appriciate all the above students for submitting their daily assignments on time. E.g. Anjali"
   ]
  },
  {
   "cell_type": "code",
   "execution_count": 54,
   "metadata": {},
   "outputs": [
    {
     "name": "stdout",
     "output_type": "stream",
     "text": [
      "['anjali', 'mansoora', 'ajeeth', 'naveed', 'kiran', 'ram', 'harshita', 'zubair']\n"
     ]
    }
   ],
   "source": [
    "print (newstudent)"
   ]
  },
  {
   "cell_type": "code",
   "execution_count": 55,
   "metadata": {},
   "outputs": [
    {
     "name": "stdout",
     "output_type": "stream",
     "text": [
      "anjali\n"
     ]
    }
   ],
   "source": [
    "newstudent = ['anjali','mansoora', 'ajeeth','naveed', 'kiran', 'ram', 'harshita' 'zubair']\n",
    "print (newstudent[0])"
   ]
  },
  {
   "cell_type": "code",
   "execution_count": 85,
   "metadata": {},
   "outputs": [
    {
     "name": "stdout",
     "output_type": "stream",
     "text": [
      "keep up the good work, anjali\n"
     ]
    }
   ],
   "source": [
    "newstudent = ['anjali','mansoora', 'ajeeth','naveed', 'kiran', 'ram', 'harshita','zubair']\n",
    "\n",
    "print(\"keep up the good work,\",(newstudent[0]))"
   ]
  },
  {
   "cell_type": "code",
   "execution_count": 130,
   "metadata": {},
   "outputs": [
    {
     "name": "stdout",
     "output_type": "stream",
     "text": [
      "keep up the good work, Anjali\n"
     ]
    }
   ],
   "source": [
    "print(\"keep up the good work,\",(newstudent[0].title()))"
   ]
  },
  {
   "cell_type": "code",
   "execution_count": 114,
   "metadata": {},
   "outputs": [
    {
     "name": "stdout",
     "output_type": "stream",
     "text": [
      "keep up the good work, mansoora\n"
     ]
    }
   ],
   "source": [
    "print(\"keep up the good work,\",(newstudent[1]))"
   ]
  },
  {
   "cell_type": "code",
   "execution_count": 87,
   "metadata": {},
   "outputs": [
    {
     "name": "stdout",
     "output_type": "stream",
     "text": [
      "keep up the good work, ajeeth\n"
     ]
    }
   ],
   "source": [
    "print(\"keep up the good work,\",(newstudent[2]))"
   ]
  },
  {
   "cell_type": "code",
   "execution_count": 88,
   "metadata": {},
   "outputs": [
    {
     "name": "stdout",
     "output_type": "stream",
     "text": [
      "keep up the good work, naveed\n"
     ]
    }
   ],
   "source": [
    "print(\"keep up the good work,\",(newstudent[3]))"
   ]
  },
  {
   "cell_type": "code",
   "execution_count": 89,
   "metadata": {},
   "outputs": [
    {
     "name": "stdout",
     "output_type": "stream",
     "text": [
      "keep up the good work, kiran\n"
     ]
    }
   ],
   "source": [
    "print(\"keep up the good work,\",(newstudent[4]))"
   ]
  },
  {
   "cell_type": "code",
   "execution_count": 90,
   "metadata": {},
   "outputs": [
    {
     "name": "stdout",
     "output_type": "stream",
     "text": [
      "keep up the good work, ram\n"
     ]
    }
   ],
   "source": [
    "print(\"keep up the good work,\",(newstudent[5]))"
   ]
  },
  {
   "cell_type": "code",
   "execution_count": 92,
   "metadata": {},
   "outputs": [
    {
     "name": "stdout",
     "output_type": "stream",
     "text": [
      "keep up the good work, harshita\n"
     ]
    }
   ],
   "source": [
    "print(\"keep up the good work,\",(newstudent[6]))"
   ]
  },
  {
   "cell_type": "code",
   "execution_count": 93,
   "metadata": {},
   "outputs": [
    {
     "name": "stdout",
     "output_type": "stream",
     "text": [
      "keep up the good work, zubair\n"
     ]
    }
   ],
   "source": [
    "print(\"keep up the good work,\",(newstudent[7]))"
   ]
  },
  {
   "cell_type": "code",
   "execution_count": null,
   "metadata": {},
   "outputs": [],
   "source": [
    "# General Syntax of For Loop\n",
    "for tempvar in mainvar:\n",
    "    print(tempvar)"
   ]
  },
  {
   "cell_type": "code",
   "execution_count": 7,
   "metadata": {},
   "outputs": [],
   "source": [
    "newstudent = ['anjali','mansoora', 'ajeeth','naveed', 'kiran', 'ram', 'harshita','zubair']\n"
   ]
  },
  {
   "cell_type": "code",
   "execution_count": 8,
   "metadata": {},
   "outputs": [
    {
     "name": "stdout",
     "output_type": "stream",
     "text": [
      "['anjali', 'mansoora', 'ajeeth', 'naveed', 'kiran', 'ram', 'harshita', 'zubair']\n"
     ]
    }
   ],
   "source": [
    "print (newstudent)"
   ]
  },
  {
   "cell_type": "code",
   "execution_count": 9,
   "metadata": {},
   "outputs": [
    {
     "name": "stdout",
     "output_type": "stream",
     "text": [
      "keep up the good work, anjali\n",
      "keep up the good work, mansoora\n",
      "keep up the good work, ajeeth\n",
      "keep up the good work, naveed\n",
      "keep up the good work, kiran\n",
      "keep up the good work, ram\n",
      "keep up the good work, harshita\n",
      "keep up the good work, zubair\n"
     ]
    }
   ],
   "source": [
    "for x in newstudent:\n",
    "    print(f\"keep up the good work, {x}\")"
   ]
  },
  {
   "cell_type": "code",
   "execution_count": 11,
   "metadata": {},
   "outputs": [
    {
     "name": "stdout",
     "output_type": "stream",
     "text": [
      "keep up the good work, anjali.\n",
      "\n",
      "keep up the good work, mansoora.\n",
      "\n",
      "keep up the good work, ajeeth.\n",
      "\n",
      "keep up the good work, naveed.\n",
      "\n",
      "keep up the good work, kiran.\n",
      "\n",
      "keep up the good work, ram.\n",
      "\n",
      "keep up the good work, harshita.\n",
      "\n",
      "keep up the good work, zubair.\n",
      "\n"
     ]
    }
   ],
   "source": [
    "for x in newstudent:\n",
    "    print(f\"keep up the good work, {x}.\\n\")"
   ]
  },
  {
   "cell_type": "code",
   "execution_count": 12,
   "metadata": {},
   "outputs": [
    {
     "name": "stdout",
     "output_type": "stream",
     "text": [
      "keep up the good work, anjali.\n",
      "\n",
      "I am looking forward to receive your files of today, anjali.\n",
      "\n",
      "keep up the good work, mansoora.\n",
      "\n",
      "I am looking forward to receive your files of today, mansoora.\n",
      "\n",
      "keep up the good work, ajeeth.\n",
      "\n",
      "I am looking forward to receive your files of today, ajeeth.\n",
      "\n",
      "keep up the good work, naveed.\n",
      "\n",
      "I am looking forward to receive your files of today, naveed.\n",
      "\n",
      "keep up the good work, kiran.\n",
      "\n",
      "I am looking forward to receive your files of today, kiran.\n",
      "\n",
      "keep up the good work, ram.\n",
      "\n",
      "I am looking forward to receive your files of today, ram.\n",
      "\n",
      "keep up the good work, harshita.\n",
      "\n",
      "I am looking forward to receive your files of today, harshita.\n",
      "\n",
      "keep up the good work, zubair.\n",
      "\n",
      "I am looking forward to receive your files of today, zubair.\n",
      "\n"
     ]
    }
   ],
   "source": [
    "for x in newstudent:\n",
    "    print(f\"keep up the good work, {x}.\\n\")\n",
    "    print(f\"I am looking forward to receive your files of today, {x}.\\n\")"
   ]
  },
  {
   "cell_type": "code",
   "execution_count": null,
   "metadata": {},
   "outputs": [],
   "source": []
  }
 ],
 "metadata": {
  "kernelspec": {
   "display_name": "Python 3",
   "language": "python",
   "name": "python3"
  },
  "language_info": {
   "codemirror_mode": {
    "name": "ipython",
    "version": 3
   },
   "file_extension": ".py",
   "mimetype": "text/x-python",
   "name": "python",
   "nbconvert_exporter": "python",
   "pygments_lexer": "ipython3",
   "version": "3.7.9"
  }
 },
 "nbformat": 4,
 "nbformat_minor": 4
}
